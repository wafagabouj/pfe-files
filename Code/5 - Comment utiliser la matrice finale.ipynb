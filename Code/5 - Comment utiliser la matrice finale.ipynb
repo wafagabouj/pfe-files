{
 "cells": [
  {
   "cell_type": "code",
   "execution_count": 1,
   "metadata": {},
   "outputs": [],
   "source": [
    "import os\n",
    "os.chdir(os.getcwd().replace('/Code', ''))"
   ]
  },
  {
   "cell_type": "markdown",
   "metadata": {},
   "source": [
    "# Exemple d'utilisation de la matrice"
   ]
  },
  {
   "cell_type": "code",
   "execution_count": 2,
   "metadata": {},
   "outputs": [],
   "source": [
    "import gzip\n",
    "import pickle as pkl\n",
    "import pandas as pd\n",
    "from sklearn.feature_extraction.text import CountVectorizer\n",
    "from sklearn.feature_extraction.text import TfidfVectorizer"
   ]
  },
  {
   "cell_type": "code",
   "execution_count": 3,
   "metadata": {},
   "outputs": [
    {
     "data": {
      "text/html": [
       "<div>\n",
       "<style scoped>\n",
       "    .dataframe tbody tr th:only-of-type {\n",
       "        vertical-align: middle;\n",
       "    }\n",
       "\n",
       "    .dataframe tbody tr th {\n",
       "        vertical-align: top;\n",
       "    }\n",
       "\n",
       "    .dataframe thead th {\n",
       "        text-align: right;\n",
       "    }\n",
       "</style>\n",
       "<table border=\"1\" class=\"dataframe\">\n",
       "  <thead>\n",
       "    <tr style=\"text-align: right;\">\n",
       "      <th></th>\n",
       "      <th>cv_list</th>\n",
       "      <th>len_cv_initial</th>\n",
       "      <th>vocab_cv_list</th>\n",
       "    </tr>\n",
       "    <tr>\n",
       "      <th>id_CV</th>\n",
       "      <th></th>\n",
       "      <th></th>\n",
       "      <th></th>\n",
       "    </tr>\n",
       "  </thead>\n",
       "  <tbody>\n",
       "    <tr>\n",
       "      <th>5711</th>\n",
       "      <td>[jaouadi, junior, data, scientist, jaouadi, ju...</td>\n",
       "      <td>4477</td>\n",
       "      <td>[junior, data, scientist, junior, data, scient...</td>\n",
       "    </tr>\n",
       "  </tbody>\n",
       "</table>\n",
       "</div>"
      ],
      "text/plain": [
       "                                                 cv_list  len_cv_initial  \\\n",
       "id_CV                                                                      \n",
       "5711   [jaouadi, junior, data, scientist, jaouadi, ju...            4477   \n",
       "\n",
       "                                           vocab_cv_list  \n",
       "id_CV                                                     \n",
       "5711   [junior, data, scientist, junior, data, scient...  "
      ]
     },
     "execution_count": 3,
     "metadata": {},
     "output_type": "execute_result"
    }
   ],
   "source": [
    "with gzip.open('Matrices/CVs_FINALE.pkl.gz', 'rb') as f:\n",
    "        CVs = pkl.load(f)\n",
    "CVs.shape\n",
    "CVs.head(1)"
   ]
  },
  {
   "cell_type": "markdown",
   "metadata": {},
   "source": [
    "### Travail sur le vocabulaire retenu (min_df = 4 et max_df =0.6)"
   ]
  },
  {
   "cell_type": "code",
   "execution_count": 4,
   "metadata": {},
   "outputs": [],
   "source": [
    "joincv_vocab = [\" \".join(CVs.loc[cv]['vocab_cv_list']) for cv in CVs.index]"
   ]
  },
  {
   "cell_type": "code",
   "execution_count": 5,
   "metadata": {},
   "outputs": [
    {
     "name": "stdout",
     "output_type": "stream",
     "text": [
      "Le vocabulaire retenu contient 22144 tokens pour 8086 cv.\n"
     ]
    }
   ],
   "source": [
    "vectorizer = CountVectorizer(token_pattern=\"[\\S]+\")\n",
    "X = vectorizer.fit_transform(joincv_vocab)\n",
    "DataFrame_Count_reduite = pd.DataFrame(X.toarray(),  columns=vectorizer.get_feature_names(), index=CVs.index)\n",
    "print(\"Le vocabulaire retenu contient\", DataFrame_Count_reduite.shape[1], \"tokens pour\", DataFrame_Count_reduite.shape[0], 'cv.')"
   ]
  },
  {
   "cell_type": "code",
   "execution_count": 6,
   "metadata": {},
   "outputs": [
    {
     "name": "stdout",
     "output_type": "stream",
     "text": [
      "(8086, 22144)\n"
     ]
    }
   ],
   "source": [
    "vectorizer = TfidfVectorizer(token_pattern=\"[\\S]+\")\n",
    "X = vectorizer.fit_transform(joincv_vocab)\n",
    "DataFrame_TFIDF_reduite = pd.DataFrame(X.toarray(),  columns=vectorizer.get_feature_names(), index=CVs.index)\n",
    "print(DataFrame_TFIDF_reduite.shape)"
   ]
  },
  {
   "cell_type": "markdown",
   "metadata": {},
   "source": [
    "### Travail sur le vocabulaire global à vous de choisir min et max df  et stop word"
   ]
  },
  {
   "cell_type": "code",
   "execution_count": 7,
   "metadata": {},
   "outputs": [],
   "source": [
    "joincv = [\" \".join(CVs.loc[cv]['cv_list']) for cv in CVs.index]"
   ]
  },
  {
   "cell_type": "code",
   "execution_count": 8,
   "metadata": {},
   "outputs": [
    {
     "name": "stdout",
     "output_type": "stream",
     "text": [
      "Le vocabulaire retenu contient 91050 tokens pour 8086 cv.\n"
     ]
    }
   ],
   "source": [
    "vectorizer = CountVectorizer(token_pattern=\"[\\S]+\")\n",
    "X = vectorizer.fit_transform(joincv)\n",
    "DataFrame_Count_reduite = pd.DataFrame(X.toarray(),  columns=vectorizer.get_feature_names(), index=CVs.index)\n",
    "print(\"Le vocabulaire retenu contient\", DataFrame_Count_reduite.shape[1], \"tokens pour\", DataFrame_Count_reduite.shape[0], 'cv.')"
   ]
  },
  {
   "cell_type": "code",
   "execution_count": 9,
   "metadata": {},
   "outputs": [
    {
     "name": "stdout",
     "output_type": "stream",
     "text": [
      "(8086, 91050)\n"
     ]
    }
   ],
   "source": [
    "vectorizer = TfidfVectorizer(token_pattern=\"[\\S]+\")\n",
    "X = vectorizer.fit_transform(joincv)\n",
    "DataFrame_TFIDF_reduite = pd.DataFrame(X.toarray(),  columns=vectorizer.get_feature_names(), index=CVs.index)\n",
    "print(DataFrame_TFIDF_reduite.shape)"
   ]
  },
  {
   "cell_type": "code",
   "execution_count": null,
   "metadata": {},
   "outputs": [],
   "source": []
  },
  {
   "cell_type": "code",
   "execution_count": null,
   "metadata": {},
   "outputs": [],
   "source": []
  }
 ],
 "metadata": {
  "kernelspec": {
   "display_name": "Python 3",
   "language": "python",
   "name": "python3"
  },
  "language_info": {
   "codemirror_mode": {
    "name": "ipython",
    "version": 3
   },
   "file_extension": ".py",
   "mimetype": "text/x-python",
   "name": "python",
   "nbconvert_exporter": "python",
   "pygments_lexer": "ipython3",
   "version": "3.7.6"
  }
 },
 "nbformat": 4,
 "nbformat_minor": 4
}
