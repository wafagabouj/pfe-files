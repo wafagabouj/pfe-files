{
 "cells": [
  {
   "cell_type": "code",
   "execution_count": 1,
   "metadata": {},
   "outputs": [
    {
     "name": "stdout",
     "output_type": "stream",
     "text": [
      "/home/id1019/Documents/PFE/GITHUB\n"
     ]
    }
   ],
   "source": [
    "import os\n",
    "os.chdir(os.getcwd().replace('/Code', ''))\n",
    "print(os.getcwd())"
   ]
  },
  {
   "cell_type": "code",
   "execution_count": 2,
   "metadata": {},
   "outputs": [],
   "source": [
    "import pandas as pd\n",
    "from pathlib import Path\n",
    "import glob\n",
    "import re\n",
    "import gzip\n",
    "import pickle as pkl\n",
    "import matplotlib.pyplot as plt"
   ]
  },
  {
   "cell_type": "markdown",
   "metadata": {},
   "source": [
    "## Importation des CV"
   ]
  },
  {
   "cell_type": "code",
   "execution_count": 3,
   "metadata": {},
   "outputs": [
    {
     "name": "stdout",
     "output_type": "stream",
     "text": [
      "(8769, 2)\n",
      "CPU times: user 18 s, sys: 236 ms, total: 18.2 s\n",
      "Wall time: 19.3 s\n"
     ]
    }
   ],
   "source": [
    "%%time\n",
    "CVs = pd.DataFrame(columns=['id_CV', 'text'])\n",
    "for p in  Path('.').glob('./data/*'):\n",
    "    if p.is_file():\n",
    "        with open(p,'r') as f:\n",
    "            CVs = CVs.append({'id_CV': p.parts[1], 'text': f.read() }, ignore_index=True)\n",
    "CVs.index = CVs['id_CV']\n",
    "print(CVs.shape)"
   ]
  },
  {
   "cell_type": "markdown",
   "metadata": {},
   "source": [
    "## Suppression des xxx ou XXX "
   ]
  },
  {
   "cell_type": "code",
   "execution_count": 4,
   "metadata": {},
   "outputs": [
    {
     "name": "stdout",
     "output_type": "stream",
     "text": [
      "      id_CV                                               text\n",
      "id_CV                                                         \n",
      "5711   5711  xxxxx Jaouadi – Junior Data Scientist\\n\\n\\nxxx...\n",
      "      id_CV                                          text_no_x\n",
      "id_CV                                                         \n",
      "5711   5711    Jaouadi – Junior Data Scientist\\n\\n\\n  Jaoua...\n"
     ]
    }
   ],
   "source": [
    "print(CVs.head(1))\n",
    "try:\n",
    "    CVs['text_no_x'] = [re.sub(\"[x]{2,}|[X]{2,}\", ' ', CV) for CV in CVs[\"text\"]]\n",
    "    CVs = CVs.drop(['text'], axis=1)\n",
    "except: pass\n",
    "print(CVs.head(1))"
   ]
  },
  {
   "cell_type": "markdown",
   "metadata": {},
   "source": [
    "## Etude de la longueur des CV"
   ]
  },
  {
   "cell_type": "code",
   "execution_count": 6,
   "metadata": {},
   "outputs": [
    {
     "data": {
      "image/png": "[encoded data removed]",
      "text/plain": [
       "<Figure size 432x288 with 1 Axes>"
      ]
     },
     "metadata": {
      "needs_background": "light"
     },
     "output_type": "display_data"
    }
   ],
   "source": [
    "CVs['len_cv_initial'] = [len(re.sub(\"[\\s]\", \"\",CVs.loc[cv, 'text_no_x'].lower())) for cv in CVs.index]\n",
    "CVs.sort_values(by = \"len_cv_initial\").loc[CVs[\"len_cv_initial\"]<300].hist(bins=100)\n",
    "plt.show()"
   ]
  },
  {
   "cell_type": "markdown",
   "metadata": {},
   "source": [
    "Les deux pics correspondent à \"None\" et à \"Remarque : Ceci est un document Word converti. Une image duCV est affichée au lieu du texte.\" En dessous de 100, il s'agit de bruit sans doute lié à la transformation PDF vers TEXT."
   ]
  },
  {
   "cell_type": "markdown",
   "metadata": {},
   "source": [
    "### On supprime ceux ayant une longueur de moins de 100"
   ]
  },
  {
   "cell_type": "code",
   "execution_count": 7,
   "metadata": {},
   "outputs": [
    {
     "name": "stdout",
     "output_type": "stream",
     "text": [
      "Suppression de  557 cv\n",
      "(8212, 3)\n"
     ]
    }
   ],
   "source": [
    "print(\"Suppression de \", len([cv for cv in CVs.index if CVs.loc[cv][\"len_cv_initial\"] <100]),'cv')\n",
    "CVs = CVs.drop([cv for cv in CVs.index if CVs.loc[cv][\"len_cv_initial\"] <100])\n",
    "print(CVs.shape)"
   ]
  },
  {
   "cell_type": "markdown",
   "metadata": {},
   "source": [
    "### Exportation"
   ]
  },
  {
   "cell_type": "code",
   "execution_count": 8,
   "metadata": {},
   "outputs": [],
   "source": [
    "with gzip.open('Matrices/CVs1_suppressionCV.pkl.gz', 'wb') as f:\n",
    "    pkl.dump(CVs, f)"
   ]
  },
  {
   "cell_type": "code",
   "execution_count": null,
   "metadata": {},
   "outputs": [],
   "source": []
  }
 ],
 "metadata": {
  "kernelspec": {
   "display_name": "Python 3",
   "language": "python",
   "name": "python3"
  },
  "language_info": {
   "codemirror_mode": {
    "name": "ipython",
    "version": 3
   },
   "file_extension": ".py",
   "mimetype": "text/x-python",
   "name": "python",
   "nbconvert_exporter": "python",
   "pygments_lexer": "ipython3",
   "version": "3.7.6"
  }
 },
 "nbformat": 4,
 "nbformat_minor": 4
}
