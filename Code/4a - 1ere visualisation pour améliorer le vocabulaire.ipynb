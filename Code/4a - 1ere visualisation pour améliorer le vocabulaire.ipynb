{
 "cells": [
  {
   "cell_type": "code",
   "execution_count": 1,
   "metadata": {},
   "outputs": [],
   "source": [
    "import os\n",
    "os.chdir(os.getcwd().replace('/Code', ''))"
   ]
  },
  {
   "cell_type": "code",
   "execution_count": 2,
   "metadata": {},
   "outputs": [],
   "source": [
    "import functions\n",
    "import pandas as pd\n",
    "import gzip\n",
    "import pickle as pkl\n",
    "from matplotlib import pyplot as plt\n",
    "from sklearn.feature_extraction.text import CountVectorizer\n",
    "from sklearn.feature_extraction.text import TfidfVectorizer\n",
    "from sklearn.metrics.pairwise import cosine_similarity\n",
    "import numpy as np\n",
    "import seaborn as sns\n",
    "from sklearn import decomposition, preprocessing\n",
    "import seaborn as sns\n",
    "from sklearn.manifold import TSNE"
   ]
  },
  {
   "cell_type": "markdown",
   "metadata": {},
   "source": [
    "# Récupération de la matrice précédente avec les CV en liste de tokens"
   ]
  },
  {
   "cell_type": "code",
   "execution_count": 3,
   "metadata": {},
   "outputs": [
    {
     "name": "stdout",
     "output_type": "stream",
     "text": [
      "(8205, 4)\n"
     ]
    }
   ],
   "source": [
    "with gzip.open('Matrices/CVs3_tokenization.pkl.gz', 'rb') as f:\n",
    "        CVs = pkl.load(f)\n",
    "print(CVs.shape)"
   ]
  },
  {
   "cell_type": "markdown",
   "metadata": {},
   "source": [
    "# Matrice d'occurrences"
   ]
  },
  {
   "cell_type": "code",
   "execution_count": 4,
   "metadata": {},
   "outputs": [
    {
     "name": "stdout",
     "output_type": "stream",
     "text": [
      "Le vocabulaire de base contient 91920 tokens pour 8205 cv.\n"
     ]
    }
   ],
   "source": [
    "joincv = [\" \".join(CVs.loc[cv]['cv_list']) for cv in CVs.index]\n",
    "vectorizer = CountVectorizer(token_pattern=\"[\\S]+\")\n",
    "X = vectorizer.fit_transform(joincv)\n",
    "DataFrame_Count = pd.DataFrame(X.toarray(),  columns=vectorizer.get_feature_names(), index=CVs.index)\n",
    "print(\"Le vocabulaire de base contient\", DataFrame_Count.shape[1], \"tokens pour\", DataFrame_Count.shape[0], 'cv.')"
   ]
  },
  {
   "cell_type": "markdown",
   "metadata": {},
   "source": [
    "# Etude sur l'apparition des mots"
   ]
  },
  {
   "cell_type": "code",
   "execution_count": 5,
   "metadata": {},
   "outputs": [
    {
     "name": "stdout",
     "output_type": "stream",
     "text": [
      "         nb_occ_tot   pct_occ_tot         nb_CV        pct_CV  \\\n",
      "count  91920.000000  91920.000000  91920.000000  91920.000000   \n",
      "mean      44.294332      0.048188     22.865611      0.278679   \n",
      "std      551.987958      0.600509    173.403180      2.113384   \n",
      "min        1.000000      0.001088      1.000000      0.012188   \n",
      "25%        1.000000      0.001088      1.000000      0.012188   \n",
      "50%        2.000000      0.002176      1.000000      0.012188   \n",
      "75%        5.000000      0.005440      3.000000      0.036563   \n",
      "max    56819.000000     61.813534   7326.000000     89.287020   \n",
      "\n",
      "       nb_occ_moyen_par_CV  \n",
      "count         91920.000000  \n",
      "mean              1.304454  \n",
      "std               0.859301  \n",
      "min               1.000000  \n",
      "25%               1.000000  \n",
      "50%               1.000000  \n",
      "75%               1.329353  \n",
      "max              46.000000  \n"
     ]
    }
   ],
   "source": [
    "df_stat = pd.DataFrame(index =DataFrame_Count.columns)\n",
    "df_stat['mot'] = DataFrame_Count.columns\n",
    "df_stat['nb_occ_tot'] = list(DataFrame_Count.sum(axis=0))\n",
    "df_stat['pct_occ_tot'] = df_stat['nb_occ_tot'] / DataFrame_Count.shape[1] *100\n",
    "df_stat['nb_CV'] = list(DataFrame_Count.astype(bool).sum(axis=0))\n",
    "df_stat['pct_CV'] = df_stat['nb_CV'] / DataFrame_Count.shape[0] *100\n",
    "df_stat['nb_occ_moyen_par_CV'] = df_stat['nb_occ_tot'] / df_stat['nb_CV']\n",
    "print(df_stat.describe())"
   ]
  },
  {
   "cell_type": "code",
   "execution_count": 6,
   "metadata": {},
   "outputs": [
    {
     "data": {
      "text/plain": [
       "0.756429503916449"
      ]
     },
     "execution_count": 6,
     "metadata": {},
     "output_type": "execute_result"
    }
   ],
   "source": [
    "df_stat.loc[df_stat['nb_CV']<4].shape[0]/df_stat.shape[0]"
   ]
  },
  {
   "cell_type": "markdown",
   "metadata": {},
   "source": [
    "### Suppression des mots peu fréquents "
   ]
  },
  {
   "cell_type": "code",
   "execution_count": 7,
   "metadata": {},
   "outputs": [
    {
     "data": {
      "text/html": [
       "<div>\n",
       "<style scoped>\n",
       "    .dataframe tbody tr th:only-of-type {\n",
       "        vertical-align: middle;\n",
       "    }\n",
       "\n",
       "    .dataframe tbody tr th {\n",
       "        vertical-align: top;\n",
       "    }\n",
       "\n",
       "    .dataframe thead th {\n",
       "        text-align: right;\n",
       "    }\n",
       "</style>\n",
       "<table border=\"1\" class=\"dataframe\">\n",
       "  <thead>\n",
       "    <tr style=\"text-align: right;\">\n",
       "      <th></th>\n",
       "      <th>nb_occ_tot</th>\n",
       "      <th>pct_occ_tot</th>\n",
       "      <th>nb_CV</th>\n",
       "      <th>pct_CV</th>\n",
       "      <th>nb_occ_moyen_par_CV</th>\n",
       "    </tr>\n",
       "  </thead>\n",
       "  <tbody>\n",
       "    <tr>\n",
       "      <th>0.10</th>\n",
       "      <td>1.0</td>\n",
       "      <td>0.001088</td>\n",
       "      <td>1.0</td>\n",
       "      <td>0.012188</td>\n",
       "      <td>1.000000</td>\n",
       "    </tr>\n",
       "    <tr>\n",
       "      <th>0.50</th>\n",
       "      <td>2.0</td>\n",
       "      <td>0.002176</td>\n",
       "      <td>1.0</td>\n",
       "      <td>0.012188</td>\n",
       "      <td>1.000000</td>\n",
       "    </tr>\n",
       "    <tr>\n",
       "      <th>0.60</th>\n",
       "      <td>2.0</td>\n",
       "      <td>0.002176</td>\n",
       "      <td>2.0</td>\n",
       "      <td>0.024375</td>\n",
       "      <td>1.000000</td>\n",
       "    </tr>\n",
       "    <tr>\n",
       "      <th>0.70</th>\n",
       "      <td>3.0</td>\n",
       "      <td>0.003264</td>\n",
       "      <td>3.0</td>\n",
       "      <td>0.036563</td>\n",
       "      <td>1.166667</td>\n",
       "    </tr>\n",
       "    <tr>\n",
       "      <th>0.80</th>\n",
       "      <td>7.0</td>\n",
       "      <td>0.007615</td>\n",
       "      <td>5.0</td>\n",
       "      <td>0.060938</td>\n",
       "      <td>1.500000</td>\n",
       "    </tr>\n",
       "    <tr>\n",
       "      <th>0.85</th>\n",
       "      <td>11.0</td>\n",
       "      <td>0.011967</td>\n",
       "      <td>8.0</td>\n",
       "      <td>0.097502</td>\n",
       "      <td>1.744260</td>\n",
       "    </tr>\n",
       "    <tr>\n",
       "      <th>0.90</th>\n",
       "      <td>22.0</td>\n",
       "      <td>0.023934</td>\n",
       "      <td>16.0</td>\n",
       "      <td>0.195003</td>\n",
       "      <td>2.000000</td>\n",
       "    </tr>\n",
       "    <tr>\n",
       "      <th>0.95</th>\n",
       "      <td>71.0</td>\n",
       "      <td>0.077241</td>\n",
       "      <td>50.0</td>\n",
       "      <td>0.609385</td>\n",
       "      <td>2.250000</td>\n",
       "    </tr>\n",
       "    <tr>\n",
       "      <th>1.00</th>\n",
       "      <td>56819.0</td>\n",
       "      <td>61.813534</td>\n",
       "      <td>7326.0</td>\n",
       "      <td>89.287020</td>\n",
       "      <td>46.000000</td>\n",
       "    </tr>\n",
       "  </tbody>\n",
       "</table>\n",
       "</div>"
      ],
      "text/plain": [
       "      nb_occ_tot  pct_occ_tot   nb_CV     pct_CV  nb_occ_moyen_par_CV\n",
       "0.10         1.0     0.001088     1.0   0.012188             1.000000\n",
       "0.50         2.0     0.002176     1.0   0.012188             1.000000\n",
       "0.60         2.0     0.002176     2.0   0.024375             1.000000\n",
       "0.70         3.0     0.003264     3.0   0.036563             1.166667\n",
       "0.80         7.0     0.007615     5.0   0.060938             1.500000\n",
       "0.85        11.0     0.011967     8.0   0.097502             1.744260\n",
       "0.90        22.0     0.023934    16.0   0.195003             2.000000\n",
       "0.95        71.0     0.077241    50.0   0.609385             2.250000\n",
       "1.00     56819.0    61.813534  7326.0  89.287020            46.000000"
      ]
     },
     "execution_count": 7,
     "metadata": {},
     "output_type": "execute_result"
    }
   ],
   "source": [
    "df_stat.quantile([0.1,0.5,0.6,0.7,0.8,0.85,0.9,0.95,1])"
   ]
  },
  {
   "cell_type": "code",
   "execution_count": 12,
   "metadata": {},
   "outputs": [
    {
     "data": {
      "image/png": "[encoded data removed]",
      "text/plain": [
       "<Figure size 720x360 with 1 Axes>"
      ]
     },
     "metadata": {
      "needs_background": "light"
     },
     "output_type": "display_data"
    }
   ],
   "source": [
    "plt.figure(figsize=(10, 5))\n",
    "df_stat['nb_CV'].loc[df_stat['nb_CV']<=20].hist(bins=100)\n",
    "plt.show()"
   ]
  },
  {
   "cell_type": "markdown",
   "metadata": {},
   "source": [
    "Généralement on a un mot par cv (nom d'entreprise apparait une fois). Donc on conservera seulement les mots qui apparaissent dans au moins 4 CV."
   ]
  },
  {
   "cell_type": "code",
   "execution_count": 13,
   "metadata": {},
   "outputs": [
    {
     "name": "stdout",
     "output_type": "stream",
     "text": [
      "On va supprimer 69531 mots. Il restera 22389 mots dans le vocabulaire.\n"
     ]
    }
   ],
   "source": [
    "liste_mots_a_supprimer_peu_freq = list(df_stat.loc[df_stat['nb_CV']<4].index)\n",
    "print('On va supprimer',len(liste_mots_a_supprimer_peu_freq), 'mots. Il restera',df_stat.shape[0] - len(liste_mots_a_supprimer_peu_freq) ,'mots dans le vocabulaire.')"
   ]
  },
  {
   "cell_type": "markdown",
   "metadata": {},
   "source": [
    "### Suppression des mots trops fréquents"
   ]
  },
  {
   "cell_type": "code",
   "execution_count": 14,
   "metadata": {},
   "outputs": [
    {
     "data": {
      "text/html": [
       "<div>\n",
       "<style scoped>\n",
       "    .dataframe tbody tr th:only-of-type {\n",
       "        vertical-align: middle;\n",
       "    }\n",
       "\n",
       "    .dataframe tbody tr th {\n",
       "        vertical-align: top;\n",
       "    }\n",
       "\n",
       "    .dataframe thead th {\n",
       "        text-align: right;\n",
       "    }\n",
       "</style>\n",
       "<table border=\"1\" class=\"dataframe\">\n",
       "  <thead>\n",
       "    <tr style=\"text-align: right;\">\n",
       "      <th></th>\n",
       "      <th>mot</th>\n",
       "      <th>nb_occ_tot</th>\n",
       "      <th>pct_occ_tot</th>\n",
       "      <th>nb_CV</th>\n",
       "      <th>pct_CV</th>\n",
       "      <th>nb_occ_moyen_par_CV</th>\n",
       "    </tr>\n",
       "  </thead>\n",
       "  <tbody>\n",
       "    <tr>\n",
       "      <th>experience</th>\n",
       "      <td>experience</td>\n",
       "      <td>12089</td>\n",
       "      <td>13.151654</td>\n",
       "      <td>7326</td>\n",
       "      <td>89.287020</td>\n",
       "      <td>1.650150</td>\n",
       "    </tr>\n",
       "    <tr>\n",
       "      <th>management</th>\n",
       "      <td>management</td>\n",
       "      <td>56819</td>\n",
       "      <td>61.813534</td>\n",
       "      <td>6967</td>\n",
       "      <td>84.911639</td>\n",
       "      <td>8.155447</td>\n",
       "    </tr>\n",
       "    <tr>\n",
       "      <th>project</th>\n",
       "      <td>project</td>\n",
       "      <td>56004</td>\n",
       "      <td>60.926893</td>\n",
       "      <td>6790</td>\n",
       "      <td>82.754418</td>\n",
       "      <td>8.248012</td>\n",
       "    </tr>\n",
       "    <tr>\n",
       "      <th>training</th>\n",
       "      <td>training</td>\n",
       "      <td>16597</td>\n",
       "      <td>18.055918</td>\n",
       "      <td>6546</td>\n",
       "      <td>79.780622</td>\n",
       "      <td>2.535441</td>\n",
       "    </tr>\n",
       "    <tr>\n",
       "      <th>development</th>\n",
       "      <td>development</td>\n",
       "      <td>46421</td>\n",
       "      <td>50.501523</td>\n",
       "      <td>6440</td>\n",
       "      <td>78.488726</td>\n",
       "      <td>7.208230</td>\n",
       "    </tr>\n",
       "    <tr>\n",
       "      <th>language</th>\n",
       "      <td>language</td>\n",
       "      <td>13531</td>\n",
       "      <td>14.720409</td>\n",
       "      <td>6029</td>\n",
       "      <td>73.479586</td>\n",
       "      <td>2.244319</td>\n",
       "    </tr>\n",
       "    <tr>\n",
       "      <th>english</th>\n",
       "      <td>english</td>\n",
       "      <td>7820</td>\n",
       "      <td>8.507398</td>\n",
       "      <td>5915</td>\n",
       "      <td>72.090189</td>\n",
       "      <td>1.322063</td>\n",
       "    </tr>\n",
       "    <tr>\n",
       "      <th>professional</th>\n",
       "      <td>professional</td>\n",
       "      <td>9211</td>\n",
       "      <td>10.020670</td>\n",
       "      <td>5788</td>\n",
       "      <td>70.542352</td>\n",
       "      <td>1.591396</td>\n",
       "    </tr>\n",
       "    <tr>\n",
       "      <th>application</th>\n",
       "      <td>application</td>\n",
       "      <td>31709</td>\n",
       "      <td>34.496301</td>\n",
       "      <td>5700</td>\n",
       "      <td>69.469835</td>\n",
       "      <td>5.562982</td>\n",
       "    </tr>\n",
       "    <tr>\n",
       "      <th>technical</th>\n",
       "      <td>technical</td>\n",
       "      <td>33225</td>\n",
       "      <td>36.145561</td>\n",
       "      <td>5499</td>\n",
       "      <td>67.020110</td>\n",
       "      <td>6.042008</td>\n",
       "    </tr>\n",
       "    <tr>\n",
       "      <th>skill</th>\n",
       "      <td>skill</td>\n",
       "      <td>9632</td>\n",
       "      <td>10.478677</td>\n",
       "      <td>5300</td>\n",
       "      <td>64.594759</td>\n",
       "      <td>1.817358</td>\n",
       "    </tr>\n",
       "    <tr>\n",
       "      <th>system</th>\n",
       "      <td>system</td>\n",
       "      <td>20530</td>\n",
       "      <td>22.334639</td>\n",
       "      <td>5223</td>\n",
       "      <td>63.656307</td>\n",
       "      <td>3.930691</td>\n",
       "    </tr>\n",
       "    <tr>\n",
       "      <th>business</th>\n",
       "      <td>business</td>\n",
       "      <td>23877</td>\n",
       "      <td>25.975849</td>\n",
       "      <td>5087</td>\n",
       "      <td>61.998781</td>\n",
       "      <td>4.693729</td>\n",
       "    </tr>\n",
       "    <tr>\n",
       "      <th>implementation</th>\n",
       "      <td>implementation</td>\n",
       "      <td>19174</td>\n",
       "      <td>20.859443</td>\n",
       "      <td>5016</td>\n",
       "      <td>61.133455</td>\n",
       "      <td>3.822568</td>\n",
       "    </tr>\n",
       "    <tr>\n",
       "      <th>analysis</th>\n",
       "      <td>analysis</td>\n",
       "      <td>18547</td>\n",
       "      <td>20.177328</td>\n",
       "      <td>4997</td>\n",
       "      <td>60.901889</td>\n",
       "      <td>3.711627</td>\n",
       "    </tr>\n",
       "    <tr>\n",
       "      <th>team</th>\n",
       "      <td>team</td>\n",
       "      <td>20093</td>\n",
       "      <td>21.859225</td>\n",
       "      <td>4949</td>\n",
       "      <td>60.316880</td>\n",
       "      <td>4.060012</td>\n",
       "    </tr>\n",
       "    <tr>\n",
       "      <th>tool</th>\n",
       "      <td>tool</td>\n",
       "      <td>16473</td>\n",
       "      <td>17.921018</td>\n",
       "      <td>4878</td>\n",
       "      <td>59.451554</td>\n",
       "      <td>3.376999</td>\n",
       "    </tr>\n",
       "    <tr>\n",
       "      <th>design</th>\n",
       "      <td>design</td>\n",
       "      <td>19074</td>\n",
       "      <td>20.750653</td>\n",
       "      <td>4837</td>\n",
       "      <td>58.951859</td>\n",
       "      <td>3.943353</td>\n",
       "    </tr>\n",
       "    <tr>\n",
       "      <th>computer</th>\n",
       "      <td>computer</td>\n",
       "      <td>9259</td>\n",
       "      <td>10.072889</td>\n",
       "      <td>4716</td>\n",
       "      <td>57.477148</td>\n",
       "      <td>1.963316</td>\n",
       "    </tr>\n",
       "    <tr>\n",
       "      <th>customer</th>\n",
       "      <td>customer</td>\n",
       "      <td>15368</td>\n",
       "      <td>16.718886</td>\n",
       "      <td>4635</td>\n",
       "      <td>56.489945</td>\n",
       "      <td>3.315642</td>\n",
       "    </tr>\n",
       "    <tr>\n",
       "      <th>sql</th>\n",
       "      <td>sql</td>\n",
       "      <td>20849</td>\n",
       "      <td>22.681680</td>\n",
       "      <td>4617</td>\n",
       "      <td>56.270567</td>\n",
       "      <td>4.515703</td>\n",
       "    </tr>\n",
       "    <tr>\n",
       "      <th>manager</th>\n",
       "      <td>manager</td>\n",
       "      <td>16454</td>\n",
       "      <td>17.900348</td>\n",
       "      <td>4608</td>\n",
       "      <td>56.160878</td>\n",
       "      <td>3.570747</td>\n",
       "    </tr>\n",
       "    <tr>\n",
       "      <th>new</th>\n",
       "      <td>new</td>\n",
       "      <td>14128</td>\n",
       "      <td>15.369887</td>\n",
       "      <td>4606</td>\n",
       "      <td>56.136502</td>\n",
       "      <td>3.067304</td>\n",
       "    </tr>\n",
       "    <tr>\n",
       "      <th>support</th>\n",
       "      <td>support</td>\n",
       "      <td>16877</td>\n",
       "      <td>18.360531</td>\n",
       "      <td>4592</td>\n",
       "      <td>55.965874</td>\n",
       "      <td>3.675305</td>\n",
       "    </tr>\n",
       "    <tr>\n",
       "      <th>software</th>\n",
       "      <td>software</td>\n",
       "      <td>13827</td>\n",
       "      <td>15.042428</td>\n",
       "      <td>4584</td>\n",
       "      <td>55.868373</td>\n",
       "      <td>3.016361</td>\n",
       "    </tr>\n",
       "    <tr>\n",
       "      <th>february</th>\n",
       "      <td>february</td>\n",
       "      <td>11334</td>\n",
       "      <td>12.330287</td>\n",
       "      <td>4479</td>\n",
       "      <td>54.588665</td>\n",
       "      <td>2.530476</td>\n",
       "    </tr>\n",
       "    <tr>\n",
       "      <th>service</th>\n",
       "      <td>service</td>\n",
       "      <td>14125</td>\n",
       "      <td>15.366623</td>\n",
       "      <td>4395</td>\n",
       "      <td>53.564899</td>\n",
       "      <td>3.213879</td>\n",
       "    </tr>\n",
       "    <tr>\n",
       "      <th>french</th>\n",
       "      <td>french</td>\n",
       "      <td>6603</td>\n",
       "      <td>7.183420</td>\n",
       "      <td>4348</td>\n",
       "      <td>52.992078</td>\n",
       "      <td>1.518629</td>\n",
       "    </tr>\n",
       "    <tr>\n",
       "      <th>master</th>\n",
       "      <td>master</td>\n",
       "      <td>7522</td>\n",
       "      <td>8.183203</td>\n",
       "      <td>4259</td>\n",
       "      <td>51.907374</td>\n",
       "      <td>1.766142</td>\n",
       "    </tr>\n",
       "    <tr>\n",
       "      <th>web</th>\n",
       "      <td>web</td>\n",
       "      <td>17696</td>\n",
       "      <td>19.251523</td>\n",
       "      <td>4202</td>\n",
       "      <td>51.212675</td>\n",
       "      <td>4.211328</td>\n",
       "    </tr>\n",
       "    <tr>\n",
       "      <th>information</th>\n",
       "      <td>information</td>\n",
       "      <td>8481</td>\n",
       "      <td>9.226501</td>\n",
       "      <td>4098</td>\n",
       "      <td>49.945155</td>\n",
       "      <td>2.069546</td>\n",
       "    </tr>\n",
       "    <tr>\n",
       "      <th>engineer</th>\n",
       "      <td>engineer</td>\n",
       "      <td>12576</td>\n",
       "      <td>13.681462</td>\n",
       "      <td>4055</td>\n",
       "      <td>49.421085</td>\n",
       "      <td>3.101356</td>\n",
       "    </tr>\n",
       "    <tr>\n",
       "      <th>test</th>\n",
       "      <td>test</td>\n",
       "      <td>18024</td>\n",
       "      <td>19.608355</td>\n",
       "      <td>3977</td>\n",
       "      <td>48.470445</td>\n",
       "      <td>4.532059</td>\n",
       "    </tr>\n",
       "    <tr>\n",
       "      <th>office</th>\n",
       "      <td>office</td>\n",
       "      <td>11969</td>\n",
       "      <td>13.021105</td>\n",
       "      <td>3953</td>\n",
       "      <td>48.177940</td>\n",
       "      <td>3.027827</td>\n",
       "    </tr>\n",
       "    <tr>\n",
       "      <th>integration</th>\n",
       "      <td>integration</td>\n",
       "      <td>11930</td>\n",
       "      <td>12.978677</td>\n",
       "      <td>3936</td>\n",
       "      <td>47.970750</td>\n",
       "      <td>3.030996</td>\n",
       "    </tr>\n",
       "    <tr>\n",
       "      <th>datum</th>\n",
       "      <td>datum</td>\n",
       "      <td>12395</td>\n",
       "      <td>13.484552</td>\n",
       "      <td>3882</td>\n",
       "      <td>47.312614</td>\n",
       "      <td>3.192942</td>\n",
       "    </tr>\n",
       "    <tr>\n",
       "      <th>developer</th>\n",
       "      <td>developer</td>\n",
       "      <td>14240</td>\n",
       "      <td>15.491732</td>\n",
       "      <td>3870</td>\n",
       "      <td>47.166362</td>\n",
       "      <td>3.679587</td>\n",
       "    </tr>\n",
       "    <tr>\n",
       "      <th>server</th>\n",
       "      <td>server</td>\n",
       "      <td>19810</td>\n",
       "      <td>21.551349</td>\n",
       "      <td>3850</td>\n",
       "      <td>46.922608</td>\n",
       "      <td>5.145455</td>\n",
       "    </tr>\n",
       "    <tr>\n",
       "      <th>java</th>\n",
       "      <td>java</td>\n",
       "      <td>19347</td>\n",
       "      <td>21.047650</td>\n",
       "      <td>3836</td>\n",
       "      <td>46.751980</td>\n",
       "      <td>5.043535</td>\n",
       "    </tr>\n",
       "    <tr>\n",
       "      <th>environment</th>\n",
       "      <td>environment</td>\n",
       "      <td>22509</td>\n",
       "      <td>24.487598</td>\n",
       "      <td>3828</td>\n",
       "      <td>46.654479</td>\n",
       "      <td>5.880094</td>\n",
       "    </tr>\n",
       "  </tbody>\n",
       "</table>\n",
       "</div>"
      ],
      "text/plain": [
       "                           mot  nb_occ_tot  pct_occ_tot  nb_CV     pct_CV  \\\n",
       "experience          experience       12089    13.151654   7326  89.287020   \n",
       "management          management       56819    61.813534   6967  84.911639   \n",
       "project                project       56004    60.926893   6790  82.754418   \n",
       "training              training       16597    18.055918   6546  79.780622   \n",
       "development        development       46421    50.501523   6440  78.488726   \n",
       "language              language       13531    14.720409   6029  73.479586   \n",
       "english                english        7820     8.507398   5915  72.090189   \n",
       "professional      professional        9211    10.020670   5788  70.542352   \n",
       "application        application       31709    34.496301   5700  69.469835   \n",
       "technical            technical       33225    36.145561   5499  67.020110   \n",
       "skill                    skill        9632    10.478677   5300  64.594759   \n",
       "system                  system       20530    22.334639   5223  63.656307   \n",
       "business              business       23877    25.975849   5087  61.998781   \n",
       "implementation  implementation       19174    20.859443   5016  61.133455   \n",
       "analysis              analysis       18547    20.177328   4997  60.901889   \n",
       "team                      team       20093    21.859225   4949  60.316880   \n",
       "tool                      tool       16473    17.921018   4878  59.451554   \n",
       "design                  design       19074    20.750653   4837  58.951859   \n",
       "computer              computer        9259    10.072889   4716  57.477148   \n",
       "customer              customer       15368    16.718886   4635  56.489945   \n",
       "sql                        sql       20849    22.681680   4617  56.270567   \n",
       "manager                manager       16454    17.900348   4608  56.160878   \n",
       "new                        new       14128    15.369887   4606  56.136502   \n",
       "support                support       16877    18.360531   4592  55.965874   \n",
       "software              software       13827    15.042428   4584  55.868373   \n",
       "february              february       11334    12.330287   4479  54.588665   \n",
       "service                service       14125    15.366623   4395  53.564899   \n",
       "french                  french        6603     7.183420   4348  52.992078   \n",
       "master                  master        7522     8.183203   4259  51.907374   \n",
       "web                        web       17696    19.251523   4202  51.212675   \n",
       "information        information        8481     9.226501   4098  49.945155   \n",
       "engineer              engineer       12576    13.681462   4055  49.421085   \n",
       "test                      test       18024    19.608355   3977  48.470445   \n",
       "office                  office       11969    13.021105   3953  48.177940   \n",
       "integration        integration       11930    12.978677   3936  47.970750   \n",
       "datum                    datum       12395    13.484552   3882  47.312614   \n",
       "developer            developer       14240    15.491732   3870  47.166362   \n",
       "server                  server       19810    21.551349   3850  46.922608   \n",
       "java                      java       19347    21.047650   3836  46.751980   \n",
       "environment        environment       22509    24.487598   3828  46.654479   \n",
       "\n",
       "                nb_occ_moyen_par_CV  \n",
       "experience                 1.650150  \n",
       "management                 8.155447  \n",
       "project                    8.248012  \n",
       "training                   2.535441  \n",
       "development                7.208230  \n",
       "language                   2.244319  \n",
       "english                    1.322063  \n",
       "professional               1.591396  \n",
       "application                5.562982  \n",
       "technical                  6.042008  \n",
       "skill                      1.817358  \n",
       "system                     3.930691  \n",
       "business                   4.693729  \n",
       "implementation             3.822568  \n",
       "analysis                   3.711627  \n",
       "team                       4.060012  \n",
       "tool                       3.376999  \n",
       "design                     3.943353  \n",
       "computer                   1.963316  \n",
       "customer                   3.315642  \n",
       "sql                        4.515703  \n",
       "manager                    3.570747  \n",
       "new                        3.067304  \n",
       "support                    3.675305  \n",
       "software                   3.016361  \n",
       "february                   2.530476  \n",
       "service                    3.213879  \n",
       "french                     1.518629  \n",
       "master                     1.766142  \n",
       "web                        4.211328  \n",
       "information                2.069546  \n",
       "engineer                   3.101356  \n",
       "test                       4.532059  \n",
       "office                     3.027827  \n",
       "integration                3.030996  \n",
       "datum                      3.192942  \n",
       "developer                  3.679587  \n",
       "server                     5.145455  \n",
       "java                       5.043535  \n",
       "environment                5.880094  "
      ]
     },
     "execution_count": 14,
     "metadata": {},
     "output_type": "execute_result"
    }
   ],
   "source": [
    "df_stat.sort_values(by='pct_CV', ascending=False)[0:40]"
   ]
  },
  {
   "cell_type": "code",
   "execution_count": 15,
   "metadata": {},
   "outputs": [
    {
     "data": {
      "image/png": "[encoded data removed]",
      "text/plain": [
       "<Figure size 864x864 with 1 Axes>"
      ]
     },
     "metadata": {
      "needs_background": "light"
     },
     "output_type": "display_data"
    }
   ],
   "source": [
    "plt.figure(figsize=(12, 12))\n",
    "plt.plot(df_stat['pct_CV'], df_stat['pct_occ_tot'], 'bo')\n",
    "for i in range(len(df_stat['pct_CV'])):\n",
    "    if df_stat['pct_CV'][i]>=60:\n",
    "        plt.annotate(df_stat['mot'][i], xy=(df_stat['pct_CV'][i],df_stat['pct_occ_tot'][i]))\n",
    "plt.show()"
   ]
  },
  {
   "cell_type": "markdown",
   "metadata": {},
   "source": [
    "### suppression des mots qui apparaissent dans plus de 60% des CV"
   ]
  },
  {
   "cell_type": "code",
   "execution_count": 16,
   "metadata": {},
   "outputs": [
    {
     "name": "stdout",
     "output_type": "stream",
     "text": [
      "On va supprimer en plus 16 mots\n"
     ]
    }
   ],
   "source": [
    "liste_mots_a_supprimer_trop_freq = list(df_stat.loc[df_stat['pct_CV']>=60].index)\n",
    "print('On va supprimer en plus',len(liste_mots_a_supprimer_trop_freq), 'mots')"
   ]
  },
  {
   "cell_type": "code",
   "execution_count": 17,
   "metadata": {},
   "outputs": [
    {
     "name": "stdout",
     "output_type": "stream",
     "text": [
      "69547\n",
      "On va supprimer 69547 mots. Il restera 22373 mots dans le vocabulaire.\n"
     ]
    }
   ],
   "source": [
    "liste_mots_a_supprimer = liste_mots_a_supprimer_trop_freq + liste_mots_a_supprimer_peu_freq\n",
    "print(len(liste_mots_a_supprimer))\n",
    "print('On va supprimer',len(liste_mots_a_supprimer), 'mots. Il restera',df_stat.shape[0] - len(liste_mots_a_supprimer) ,'mots dans le vocabulaire.')"
   ]
  },
  {
   "cell_type": "markdown",
   "metadata": {},
   "source": [
    "# Nouvelle matrice d'occurrences"
   ]
  },
  {
   "cell_type": "code",
   "execution_count": 18,
   "metadata": {},
   "outputs": [
    {
     "name": "stdout",
     "output_type": "stream",
     "text": [
      "Le vocabulaire de base contient 22373 tokens pour 8205 cv.\n"
     ]
    }
   ],
   "source": [
    "joincv = [\" \".join(CVs.loc[cv]['cv_list']) for cv in CVs.index]\n",
    "vectorizer = CountVectorizer(token_pattern=\"[\\S]+\", min_df=4, max_df=0.6)\n",
    "X = vectorizer.fit_transform(joincv)\n",
    "DataFrame_Count = pd.DataFrame(X.toarray(),  columns=vectorizer.get_feature_names(), index=CVs.index)\n",
    "print(\"Le vocabulaire de base contient\", DataFrame_Count.shape[1], \"tokens pour\", DataFrame_Count.shape[0], 'cv.')"
   ]
  },
  {
   "cell_type": "markdown",
   "metadata": {},
   "source": [
    "# Matrice TFIDF"
   ]
  },
  {
   "cell_type": "code",
   "execution_count": 19,
   "metadata": {},
   "outputs": [
    {
     "name": "stdout",
     "output_type": "stream",
     "text": [
      "(8205, 22373)\n"
     ]
    }
   ],
   "source": [
    "vectorizer = TfidfVectorizer(token_pattern=\"[\\S]+\",  min_df=4, max_df=0.6)\n",
    "X = vectorizer.fit_transform(joincv)\n",
    "DataFrame_TFIDF = pd.DataFrame(X.toarray(),  columns=vectorizer.get_feature_names(), index=CVs.index)\n",
    "print(DataFrame_TFIDF.shape)"
   ]
  },
  {
   "cell_type": "markdown",
   "metadata": {},
   "source": [
    "# ACP"
   ]
  },
  {
   "cell_type": "code",
   "execution_count": 20,
   "metadata": {},
   "outputs": [],
   "source": [
    "from sklearn import decomposition, preprocessing\n",
    "pca = decomposition.PCA(n_components = 2, random_state=123)\n",
    "X_projected = pca.fit_transform(DataFrame_TFIDF)"
   ]
  },
  {
   "cell_type": "code",
   "execution_count": 21,
   "metadata": {},
   "outputs": [
    {
     "data": {
      "text/plain": [
       "Text(0, 0.5, 'axe 1')"
      ]
     },
     "execution_count": 21,
     "metadata": {},
     "output_type": "execute_result"
    },
    {
     "data": {
      "image/png": "[encoded data removed]",
      "text/plain": [
       "<Figure size 432x288 with 1 Axes>"
      ]
     },
     "metadata": {
      "needs_background": "light"
     },
     "output_type": "display_data"
    }
   ],
   "source": [
    "import seaborn as sns\n",
    "sns.scatterplot(x=X_projected[:, 0], y=X_projected[:, 1])\n",
    "plt.xlabel(\"axe 0\")\n",
    "plt.ylabel(\"axe 1\")"
   ]
  },
  {
   "cell_type": "code",
   "execution_count": 22,
   "metadata": {},
   "outputs": [
    {
     "name": "stdout",
     "output_type": "stream",
     "text": [
      "248\n"
     ]
    },
    {
     "data": {
      "text/plain": [
       "Text(0, 0.5, 'axe 1')"
      ]
     },
     "execution_count": 22,
     "metadata": {},
     "output_type": "execute_result"
    },
    {
     "data": {
      "image/png": "[encoded data removed]",
      "text/plain": [
       "<Figure size 432x288 with 1 Axes>"
      ]
     },
     "metadata": {
      "needs_background": "light"
     },
     "output_type": "display_data"
    }
   ],
   "source": [
    "xmin = 0.2\n",
    "xmax = 1\n",
    "ymin = 0\n",
    "ymax = 1\n",
    "i = [j for j in range(len(X_projected)) if ymin<= X_projected[j,1]<=ymax and xmin<= X_projected[j,0]<=xmax]\n",
    "id = list(CVs.index[i])\n",
    "print(len(id))\n",
    "clusters =  ['red' if ymin<= X_projected[j,1]<=ymax and xmin<= X_projected[j,0]<=xmax else 'blue' for j in range(len(X_projected)) ]\n",
    "sns.scatterplot(x=X_projected[:, 0], y=X_projected[:, 1], hue=clusters)\n",
    "plt.xlabel(\"axe 0\")\n",
    "plt.ylabel(\"axe 1\")"
   ]
  },
  {
   "cell_type": "code",
   "execution_count": 23,
   "metadata": {},
   "outputs": [
    {
     "name": "stdout",
     "output_type": "stream",
     "text": [
      "contract         241\n",
      "list             241\n",
      "phone            241\n",
      "native           241\n",
      "geographic       239\n",
      "specify          239\n",
      "area             239\n",
      "certain          238\n",
      "french           238\n",
      "freelance        238\n",
      "notice           237\n",
      "end              237\n",
      "address          236\n",
      "csd              235\n",
      "period           235\n",
      "alternation      234\n",
      "residence        234\n",
      "function         234\n",
      "traineeship      232\n",
      "country          230\n",
      "occasional       228\n",
      "bargain          228\n",
      "tel              224\n",
      "limited          224\n",
      "city             221\n",
      "trip             216\n",
      "order            214\n",
      "chronological    214\n",
      "credential       213\n",
      "enter            213\n",
      "graduation       213\n",
      "company          213\n",
      "mrs              205\n",
      "miss             171\n",
      "france           161\n",
      "manager          159\n",
      "code             141\n",
      "place            135\n",
      "zip              130\n",
      "society          120\n",
      "dtype: int64\n"
     ]
    }
   ],
   "source": [
    "sub_df_class = DataFrame_Count.loc[id]\n",
    "print(sub_df_class.astype(bool).sum(axis=0).sort_values(ascending=False)[40:80])"
   ]
  },
  {
   "cell_type": "code",
   "execution_count": 24,
   "metadata": {},
   "outputs": [
    {
     "name": "stdout",
     "output_type": "stream",
     "text": [
      "['address', 'alternation', 'area', 'availability', 'available', 'bargain', 'beginner', 'birth', 'cdi', 'certain', 'chronological', 'city', 'company', 'contact', 'contract', 'country', 'credential', 'csd', 'current', 'date', 'desire', 'diploma', 'end', 'enter', 'fax', 'fluent', 'form', 'france', 'freelance', 'french', 'function', 'geographic', 'graduation', 'immediately', 'indicate', 'information', 'intermediate', 'job', 'level', 'limited', 'list', 'mail', 'miss', 'mobile', 'mobility', 'mr', 'mrs', 'nationality', 'native', 'notice', 'number', 'occasional', 'order', 'period', 'personal', 'phone', 'qualification', 'recent', 'reference', 'residence', 'rub', 'salary', 'seek', 'social', 'speak', 'specify', 'tel', 'thank', 'total', 'traineeship', 'trip', 'type', 'year', 'you', 'birthplace', 'place', 'postcode', 'mother', 'email', 'ms', 'language', 'application', 'society', 'zip', 'telephone', 'position', 'luxembourg', 'code', 'average', 'linkedin', 'www', 'page', 'de', 'january', 'february', 'march', 'april', 'may', 'june', 'july', 'august', 'september', 'october', 'november', 'december']\n",
      "105\n"
     ]
    }
   ],
   "source": [
    "df_stat = pd.DataFrame(index =sub_df_class.columns)\n",
    "df_stat['mot'] = sub_df_class.columns\n",
    "df_stat['nb_CV'] = list(sub_df_class.astype(bool).sum(axis=0))\n",
    "stop_words = list(df_stat.loc[df_stat['nb_CV']>=160].index)\n",
    "stop_words.remove('security')\n",
    "stop_words.extend(['birthplace','place', 'postcode',\"mother\",\"email\",'ms',\n",
    "                  'language', 'application', 'society', 'zip', 'telephone', 'position', 'luxembourg', \n",
    "                   'code', 'average', 'linkedin', 'www', 'page', 'de',])\n",
    "import calendar\n",
    "month = [calendar.month_name[i].lower() for i in range(1,13)]\n",
    "stop_words.extend(month)\n",
    "print(stop_words)\n",
    "print(len(stop_words))"
   ]
  },
  {
   "cell_type": "markdown",
   "metadata": {},
   "source": [
    "### représentation des CV sans les stops précédents"
   ]
  },
  {
   "cell_type": "code",
   "execution_count": 25,
   "metadata": {},
   "outputs": [
    {
     "name": "stdout",
     "output_type": "stream",
     "text": [
      "Le vocabulaire de base contient 22270 tokens pour 8205 cv.\n"
     ]
    }
   ],
   "source": [
    "joincv = [\" \".join(CVs.loc[cv]['cv_list']) for cv in CVs.index]\n",
    "vectorizer = CountVectorizer(token_pattern=\"[\\S]+\", min_df=4,max_df=0.6, stop_words=stop_words)\n",
    "X = vectorizer.fit_transform(joincv)\n",
    "DataFrame_Count = pd.DataFrame(X.toarray(),  columns=vectorizer.get_feature_names(), index=CVs.index)\n",
    "print(\"Le vocabulaire de base contient\", DataFrame_Count.shape[1], \"tokens pour\", DataFrame_Count.shape[0], 'cv.')"
   ]
  },
  {
   "cell_type": "code",
   "execution_count": 26,
   "metadata": {},
   "outputs": [
    {
     "name": "stdout",
     "output_type": "stream",
     "text": [
      "(8205, 22270)\n"
     ]
    }
   ],
   "source": [
    "vectorizer = TfidfVectorizer(token_pattern=\"[\\S]+\",min_df=4,max_df=0.6, stop_words=stop_words)\n",
    "X = vectorizer.fit_transform(joincv)\n",
    "DataFrame_TFIDF = pd.DataFrame(X.toarray(),  columns=vectorizer.get_feature_names(), index=CVs.index)\n",
    "print(DataFrame_TFIDF.shape)"
   ]
  },
  {
   "cell_type": "code",
   "execution_count": 27,
   "metadata": {},
   "outputs": [],
   "source": [
    "pca = decomposition.PCA(n_components = 2, random_state=123)\n",
    "X_projected = pca.fit_transform(DataFrame_TFIDF)"
   ]
  },
  {
   "cell_type": "code",
   "execution_count": 28,
   "metadata": {},
   "outputs": [
    {
     "data": {
      "text/plain": [
       "Text(0, 0.5, 'axe 1')"
      ]
     },
     "execution_count": 28,
     "metadata": {},
     "output_type": "execute_result"
    },
    {
     "data": {
      "image/png": "[encoded data removed]",
      "text/plain": [
       "<Figure size 432x288 with 1 Axes>"
      ]
     },
     "metadata": {
      "needs_background": "light"
     },
     "output_type": "display_data"
    }
   ],
   "source": [
    "sns.scatterplot(x=X_projected[:, 0], y=X_projected[:, 1], hue=clusters, alpha=0.3)\n",
    "plt.xlabel(\"axe 0\")\n",
    "plt.ylabel(\"axe 1\")"
   ]
  },
  {
   "cell_type": "code",
   "execution_count": 29,
   "metadata": {},
   "outputs": [
    {
     "name": "stdout",
     "output_type": "stream",
     "text": [
      "69652\n",
      "22270\n"
     ]
    }
   ],
   "source": [
    "#stop words\n",
    "SW = liste_mots_a_supprimer.copy()\n",
    "SW.extend(stop_words)\n",
    "print(len(SW))\n",
    "\n",
    "#mots du vocabulaire\n",
    "vocab = list(DataFrame_Count.columns)\n",
    "print(len(vocab))"
   ]
  },
  {
   "cell_type": "code",
   "execution_count": 30,
   "metadata": {},
   "outputs": [],
   "source": [
    "with gzip.open('Matrices/stop_words4a.pkl.gz', 'wb') as f:\n",
    "    pkl.dump(SW, f)"
   ]
  },
  {
   "cell_type": "code",
   "execution_count": 31,
   "metadata": {},
   "outputs": [],
   "source": [
    "with gzip.open('Matrices/vocabulaire4a.pkl.gz', 'wb') as f:\n",
    "    pkl.dump(vocab, f)"
   ]
  },
  {
   "cell_type": "markdown",
   "metadata": {},
   "source": [
    "## Suppression dans les listes"
   ]
  },
  {
   "cell_type": "code",
   "execution_count": 32,
   "metadata": {},
   "outputs": [
    {
     "name": "stdout",
     "output_type": "stream",
     "text": [
      "8205\n"
     ]
    }
   ],
   "source": [
    "liste_CV_id = [[CVs.loc[cv]['cv_list'], CVs.loc[cv]['id_CV']] for cv in CVs.index ]\n",
    "print(len(liste_CV_id))"
   ]
  },
  {
   "cell_type": "code",
   "execution_count": 33,
   "metadata": {},
   "outputs": [],
   "source": [
    "from multiprocessing import Pool\n",
    "from functools import reduce\n",
    "def etape_map(CV_and_id):\n",
    "    CV_list = CV_and_id[0]\n",
    "    id_CV = CV_and_id[1]\n",
    "    \n",
    "    vocab_cv_list = [mot for mot in CV_list if mot in vocab]\n",
    "  \n",
    "    return ([id_CV], [vocab_cv_list])\n",
    "\n",
    "def etape_reduce(a, b):\n",
    "    a[0].append(b[0][0])\n",
    "    a[1].append(b[1][0])\n",
    "    return a"
   ]
  },
  {
   "cell_type": "code",
   "execution_count": 34,
   "metadata": {},
   "outputs": [
    {
     "name": "stdout",
     "output_type": "stream",
     "text": [
      "CPU times: user 3.3 s, sys: 1.06 s, total: 4.35 s\n",
      "Wall time: 13min 45s\n"
     ]
    }
   ],
   "source": [
    "%%time\n",
    "with Pool() as pool:\n",
    "    m = pool.map(etape_map, liste_CV_id)\n",
    "    \n",
    "r = reduce(etape_reduce, m)"
   ]
  },
  {
   "cell_type": "code",
   "execution_count": 41,
   "metadata": {},
   "outputs": [],
   "source": [
    "rdf = pd.DataFrame(r).transpose()\n",
    "rdf.columns=['id_CV', \"vocab_cv_list\"]\n",
    "rdf.index = rdf['id_CV']\n",
    "rdf = rdf.drop('id_CV', axis=1)\n",
    "CVs_vocab = CVs.join(rdf)"
   ]
  },
  {
   "cell_type": "code",
   "execution_count": 42,
   "metadata": {},
   "outputs": [
    {
     "data": {
      "text/html": [
       "<div>\n",
       "<style scoped>\n",
       "    .dataframe tbody tr th:only-of-type {\n",
       "        vertical-align: middle;\n",
       "    }\n",
       "\n",
       "    .dataframe tbody tr th {\n",
       "        vertical-align: top;\n",
       "    }\n",
       "\n",
       "    .dataframe thead th {\n",
       "        text-align: right;\n",
       "    }\n",
       "</style>\n",
       "<table border=\"1\" class=\"dataframe\">\n",
       "  <thead>\n",
       "    <tr style=\"text-align: right;\">\n",
       "      <th></th>\n",
       "      <th>id_CV</th>\n",
       "      <th>cv_list</th>\n",
       "      <th>len_cv_initial</th>\n",
       "      <th>traduction</th>\n",
       "      <th>vocab_cv_list</th>\n",
       "    </tr>\n",
       "    <tr>\n",
       "      <th>id_CV</th>\n",
       "      <th></th>\n",
       "      <th></th>\n",
       "      <th></th>\n",
       "      <th></th>\n",
       "      <th></th>\n",
       "    </tr>\n",
       "  </thead>\n",
       "  <tbody>\n",
       "    <tr>\n",
       "      <th>5711</th>\n",
       "      <td>5711</td>\n",
       "      <td>[jaouadi, junior, data, scientist, jaouadi, ju...</td>\n",
       "      <td>4477</td>\n",
       "      <td>Jaouadi - Junior Data Scientist\\n\\n\\n  Jaouadi...</td>\n",
       "      <td>[junior, data, scientist, junior, data, scient...</td>\n",
       "    </tr>\n",
       "    <tr>\n",
       "      <th>669</th>\n",
       "      <td>669</td>\n",
       "      <td>[breton, consultant, moa, business, analysis, ...</td>\n",
       "      <td>6699</td>\n",
       "      <td>Breton\\n\\n\\n \\n75\\n\\n   . . . . .\\n    Consult...</td>\n",
       "      <td>[breton, consultant, moa, finance, confirm, do...</td>\n",
       "    </tr>\n",
       "    <tr>\n",
       "      <th>938</th>\n",
       "      <td>938</td>\n",
       "      <td>[read, write, talk, read, write, talk, read, s...</td>\n",
       "      <td>5769</td>\n",
       "      <td>94. : +33  0  1 45 18 33: 33  ....\\n \\n\\n    \\...</td>\n",
       "      <td>[read, write, talk, read, write, talk, read, c...</td>\n",
       "    </tr>\n",
       "    <tr>\n",
       "      <th>1835</th>\n",
       "      <td>1835</td>\n",
       "      <td>[mr, nationality, french, date, birth, mail, p...</td>\n",
       "      <td>2353</td>\n",
       "      <td>M\\n\\nMr. Nationality: French\\nDate of birth: 1...</td>\n",
       "      <td>[java, j2ee, education, oracle, performance, t...</td>\n",
       "    </tr>\n",
       "    <tr>\n",
       "      <th>266</th>\n",
       "      <td>266</td>\n",
       "      <td>[de, reguardati, financial, engineer, de, regu...</td>\n",
       "      <td>4407</td>\n",
       "      <td>de'Reguardati - Financial Engineer\\n\\n\\n  de'R...</td>\n",
       "      <td>[financial, engineer, financial, engineer, fin...</td>\n",
       "    </tr>\n",
       "  </tbody>\n",
       "</table>\n",
       "</div>"
      ],
      "text/plain": [
       "      id_CV                                            cv_list  \\\n",
       "id_CV                                                            \n",
       "5711   5711  [jaouadi, junior, data, scientist, jaouadi, ju...   \n",
       "669     669  [breton, consultant, moa, business, analysis, ...   \n",
       "938     938  [read, write, talk, read, write, talk, read, s...   \n",
       "1835   1835  [mr, nationality, french, date, birth, mail, p...   \n",
       "266     266  [de, reguardati, financial, engineer, de, regu...   \n",
       "\n",
       "       len_cv_initial                                         traduction  \\\n",
       "id_CV                                                                      \n",
       "5711             4477  Jaouadi - Junior Data Scientist\\n\\n\\n  Jaouadi...   \n",
       "669              6699  Breton\\n\\n\\n \\n75\\n\\n   . . . . .\\n    Consult...   \n",
       "938              5769  94. : +33  0  1 45 18 33: 33  ....\\n \\n\\n    \\...   \n",
       "1835             2353  M\\n\\nMr. Nationality: French\\nDate of birth: 1...   \n",
       "266              4407  de'Reguardati - Financial Engineer\\n\\n\\n  de'R...   \n",
       "\n",
       "                                           vocab_cv_list  \n",
       "id_CV                                                     \n",
       "5711   [junior, data, scientist, junior, data, scient...  \n",
       "669    [breton, consultant, moa, finance, confirm, do...  \n",
       "938    [read, write, talk, read, write, talk, read, c...  \n",
       "1835   [java, j2ee, education, oracle, performance, t...  \n",
       "266    [financial, engineer, financial, engineer, fin...  "
      ]
     },
     "execution_count": 42,
     "metadata": {},
     "output_type": "execute_result"
    }
   ],
   "source": [
    "CVs_vocab.head(5)"
   ]
  },
  {
   "cell_type": "code",
   "execution_count": 43,
   "metadata": {},
   "outputs": [
    {
     "data": {
      "text/html": [
       "<div>\n",
       "<style scoped>\n",
       "    .dataframe tbody tr th:only-of-type {\n",
       "        vertical-align: middle;\n",
       "    }\n",
       "\n",
       "    .dataframe tbody tr th {\n",
       "        vertical-align: top;\n",
       "    }\n",
       "\n",
       "    .dataframe thead th {\n",
       "        text-align: right;\n",
       "    }\n",
       "</style>\n",
       "<table border=\"1\" class=\"dataframe\">\n",
       "  <thead>\n",
       "    <tr style=\"text-align: right;\">\n",
       "      <th></th>\n",
       "      <th>cv_list</th>\n",
       "      <th>len_cv_initial</th>\n",
       "      <th>vocab_cv_list</th>\n",
       "    </tr>\n",
       "    <tr>\n",
       "      <th>id_CV</th>\n",
       "      <th></th>\n",
       "      <th></th>\n",
       "      <th></th>\n",
       "    </tr>\n",
       "  </thead>\n",
       "  <tbody>\n",
       "    <tr>\n",
       "      <th>5711</th>\n",
       "      <td>[jaouadi, junior, data, scientist, jaouadi, ju...</td>\n",
       "      <td>4477</td>\n",
       "      <td>[junior, data, scientist, junior, data, scient...</td>\n",
       "    </tr>\n",
       "    <tr>\n",
       "      <th>669</th>\n",
       "      <td>[breton, consultant, moa, business, analysis, ...</td>\n",
       "      <td>6699</td>\n",
       "      <td>[breton, consultant, moa, finance, confirm, do...</td>\n",
       "    </tr>\n",
       "    <tr>\n",
       "      <th>938</th>\n",
       "      <td>[read, write, talk, read, write, talk, read, s...</td>\n",
       "      <td>5769</td>\n",
       "      <td>[read, write, talk, read, write, talk, read, c...</td>\n",
       "    </tr>\n",
       "    <tr>\n",
       "      <th>1835</th>\n",
       "      <td>[mr, nationality, french, date, birth, mail, p...</td>\n",
       "      <td>2353</td>\n",
       "      <td>[java, j2ee, education, oracle, performance, t...</td>\n",
       "    </tr>\n",
       "    <tr>\n",
       "      <th>266</th>\n",
       "      <td>[de, reguardati, financial, engineer, de, regu...</td>\n",
       "      <td>4407</td>\n",
       "      <td>[financial, engineer, financial, engineer, fin...</td>\n",
       "    </tr>\n",
       "  </tbody>\n",
       "</table>\n",
       "</div>"
      ],
      "text/plain": [
       "                                                 cv_list  len_cv_initial  \\\n",
       "id_CV                                                                      \n",
       "5711   [jaouadi, junior, data, scientist, jaouadi, ju...            4477   \n",
       "669    [breton, consultant, moa, business, analysis, ...            6699   \n",
       "938    [read, write, talk, read, write, talk, read, s...            5769   \n",
       "1835   [mr, nationality, french, date, birth, mail, p...            2353   \n",
       "266    [de, reguardati, financial, engineer, de, regu...            4407   \n",
       "\n",
       "                                           vocab_cv_list  \n",
       "id_CV                                                     \n",
       "5711   [junior, data, scientist, junior, data, scient...  \n",
       "669    [breton, consultant, moa, finance, confirm, do...  \n",
       "938    [read, write, talk, read, write, talk, read, c...  \n",
       "1835   [java, j2ee, education, oracle, performance, t...  \n",
       "266    [financial, engineer, financial, engineer, fin...  "
      ]
     },
     "execution_count": 43,
     "metadata": {},
     "output_type": "execute_result"
    }
   ],
   "source": [
    "CVs_vocab = CVs_vocab.drop([\"id_CV\", 'traduction'], axis=1)\n",
    "CVs_vocab.head()"
   ]
  },
  {
   "cell_type": "code",
   "execution_count": 44,
   "metadata": {},
   "outputs": [],
   "source": [
    "with gzip.open('Matrices/CVs4a_vocabulaire.pkl.gz', 'wb') as f:\n",
    "    pkl.dump(CVs_vocab, f)"
   ]
  },
  {
   "cell_type": "code",
   "execution_count": null,
   "metadata": {},
   "outputs": [],
   "source": []
  }
 ],
 "metadata": {
  "kernelspec": {
   "display_name": "Python 3",
   "language": "python",
   "name": "python3"
  },
  "language_info": {
   "codemirror_mode": {
    "name": "ipython",
    "version": 3
   },
   "file_extension": ".py",
   "mimetype": "text/x-python",
   "name": "python",
   "nbconvert_exporter": "python",
   "pygments_lexer": "ipython3",
   "version": "3.7.6"
  }
 },
 "nbformat": 4,
 "nbformat_minor": 4
}
