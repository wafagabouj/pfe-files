{
 "cells": [
  {
   "cell_type": "code",
   "execution_count": 1,
   "metadata": {},
   "outputs": [],
   "source": [
    "import os\n",
    "os.chdir(os.getcwd().replace('/Code', ''))"
   ]
  },
  {
   "cell_type": "code",
   "execution_count": 2,
   "metadata": {},
   "outputs": [],
   "source": [
    "from pathlib import Path\n",
    "import glob\n",
    "import pandas as pd\n",
    "import gzip\n",
    "import pickle as pkl\n",
    "import re\n",
    "from collections import Counter\n",
    "import numpy as np\n",
    "from sklearn.manifold import TSNE\n",
    "from matplotlib import pyplot as plt\n",
    "import spacy"
   ]
  },
  {
   "cell_type": "code",
   "execution_count": 3,
   "metadata": {},
   "outputs": [],
   "source": [
    "import unicodedata\n",
    "def remove_accent(word):\n",
    "    return unicodedata.normalize('NFD', word).encode('ascii', 'ignore').decode(\"utf-8\")"
   ]
  },
  {
   "cell_type": "code",
   "execution_count": 4,
   "metadata": {},
   "outputs": [],
   "source": [
    "nlp = spacy.load('en_core_web_md')"
   ]
  },
  {
   "cell_type": "markdown",
   "metadata": {},
   "source": [
    "## Récupération de la matrice précédente avec les CV en anglais"
   ]
  },
  {
   "cell_type": "code",
   "execution_count": 5,
   "metadata": {},
   "outputs": [
    {
     "name": "stdout",
     "output_type": "stream",
     "text": [
      "(8212, 3)\n"
     ]
    }
   ],
   "source": [
    "with gzip.open('Matrices/CVs2_traductionALL_srcfr.pkl.gz', 'rb') as f:\n",
    "        CVs_df = pkl.load(f)\n",
    "        \n",
    "CVs_df = CVs_df.drop('text_no_x', axis=1)\n",
    "print(CVs_df.shape)"
   ]
  },
  {
   "cell_type": "code",
   "execution_count": 6,
   "metadata": {},
   "outputs": [
    {
     "data": {
      "text/html": [
       "<div>\n",
       "<style scoped>\n",
       "    .dataframe tbody tr th:only-of-type {\n",
       "        vertical-align: middle;\n",
       "    }\n",
       "\n",
       "    .dataframe tbody tr th {\n",
       "        vertical-align: top;\n",
       "    }\n",
       "\n",
       "    .dataframe thead th {\n",
       "        text-align: right;\n",
       "    }\n",
       "</style>\n",
       "<table border=\"1\" class=\"dataframe\">\n",
       "  <thead>\n",
       "    <tr style=\"text-align: right;\">\n",
       "      <th></th>\n",
       "      <th>id_CV</th>\n",
       "      <th>len_cv_initial</th>\n",
       "      <th>traduction</th>\n",
       "    </tr>\n",
       "    <tr>\n",
       "      <th>id_CV</th>\n",
       "      <th></th>\n",
       "      <th></th>\n",
       "      <th></th>\n",
       "    </tr>\n",
       "  </thead>\n",
       "  <tbody>\n",
       "    <tr>\n",
       "      <th>5711</th>\n",
       "      <td>5711</td>\n",
       "      <td>4477</td>\n",
       "      <td>Jaouadi - Junior Data Scientist\\n\\n\\n  Jaouadi...</td>\n",
       "    </tr>\n",
       "    <tr>\n",
       "      <th>669</th>\n",
       "      <td>669</td>\n",
       "      <td>6699</td>\n",
       "      <td>Breton\\n\\n\\n \\n75\\n\\n   . . . . .\\n    Consult...</td>\n",
       "    </tr>\n",
       "    <tr>\n",
       "      <th>938</th>\n",
       "      <td>938</td>\n",
       "      <td>5769</td>\n",
       "      <td>94. : +33 (0) 1 45 18 33: 33 (....\\n \\n\\n    \\...</td>\n",
       "    </tr>\n",
       "    <tr>\n",
       "      <th>1835</th>\n",
       "      <td>1835</td>\n",
       "      <td>2353</td>\n",
       "      <td>M\\n\\nMr. Nationality: French\\nDate of birth: 1...</td>\n",
       "    </tr>\n",
       "    <tr>\n",
       "      <th>266</th>\n",
       "      <td>266</td>\n",
       "      <td>4407</td>\n",
       "      <td>de'Reguardati - Financial Engineer\\n\\n\\n  de'R...</td>\n",
       "    </tr>\n",
       "  </tbody>\n",
       "</table>\n",
       "</div>"
      ],
      "text/plain": [
       "      id_CV  len_cv_initial                                         traduction\n",
       "id_CV                                                                         \n",
       "5711   5711            4477  Jaouadi - Junior Data Scientist\\n\\n\\n  Jaouadi...\n",
       "669     669            6699  Breton\\n\\n\\n \\n75\\n\\n   . . . . .\\n    Consult...\n",
       "938     938            5769  94. : +33 (0) 1 45 18 33: 33 (....\\n \\n\\n    \\...\n",
       "1835   1835            2353  M\\n\\nMr. Nationality: French\\nDate of birth: 1...\n",
       "266     266            4407  de'Reguardati - Financial Engineer\\n\\n\\n  de'R..."
      ]
     },
     "execution_count": 6,
     "metadata": {},
     "output_type": "execute_result"
    }
   ],
   "source": [
    "CVs_df.head(5)"
   ]
  },
  {
   "cell_type": "markdown",
   "metadata": {},
   "source": [
    "**Si la colonne \"traduction\"==None alors le cv n'a pas été traduit**"
   ]
  },
  {
   "cell_type": "code",
   "execution_count": 7,
   "metadata": {},
   "outputs": [
    {
     "name": "stdout",
     "output_type": "stream",
     "text": [
      "7 cv n'ont pas été traduit\n",
      "(8205, 3)\n"
     ]
    }
   ],
   "source": [
    "id_cv_non_traduit = [cv for cv in CVs_df.index if CVs_df.loc[cv][\"traduction\"]==None ]\n",
    "print(len(id_cv_non_traduit) , \"cv n'ont pas été traduit\")\n",
    "CVs_df = CVs_df.drop(id_cv_non_traduit)\n",
    "print(CVs_df.shape)"
   ]
  },
  {
   "cell_type": "markdown",
   "metadata": {},
   "source": [
    "### Suppression de certains caractères qui posent problème avec Spacy"
   ]
  },
  {
   "cell_type": "code",
   "execution_count": 8,
   "metadata": {},
   "outputs": [],
   "source": [
    "CVs_df['traduction'] = [re.sub(\"[())/><]\", ' ', CV) for CV in CVs_df[\"traduction\"] ]"
   ]
  },
  {
   "cell_type": "markdown",
   "metadata": {},
   "source": [
    "### On définit la liste de liste [ [text, id], [text, id],...] pour le multiprocessing"
   ]
  },
  {
   "cell_type": "code",
   "execution_count": 9,
   "metadata": {},
   "outputs": [
    {
     "name": "stdout",
     "output_type": "stream",
     "text": [
      "8205\n"
     ]
    }
   ],
   "source": [
    "liste_CV_id = [[CVs_df.loc[cv]['traduction'], CVs_df.loc[cv]['id_CV']] for cv in CVs_df.index ]\n",
    "print(len(liste_CV_id))"
   ]
  },
  {
   "cell_type": "markdown",
   "metadata": {},
   "source": [
    "# On utilise Spacy pour tokenizer, lemmatizer, enlever les stop words et la ponctuation"
   ]
  },
  {
   "cell_type": "markdown",
   "metadata": {},
   "source": [
    "## multiprocess"
   ]
  },
  {
   "cell_type": "code",
   "execution_count": 10,
   "metadata": {},
   "outputs": [],
   "source": [
    "def etape_map(CV_and_id):\n",
    "    CV = CV_and_id[0]\n",
    "    id_CV = CV_and_id[1]\n",
    "    tokens = nlp(CV)\n",
    "    list_word_cv = [remove_accent(w.lemma_.lower()) for w in tokens if w.is_punct==False \n",
    "                    and w.is_space==False and not w.is_stop and not w.is_digit]\n",
    "\n",
    "    CV_join1 = \" \".join(list_word_cv)\n",
    "    \n",
    "    #découpe le cv en mots en conservant c++, c#\n",
    "    CV_list = re.findall(\"c\\+\\+|c#|[0-9a-z]+\" ,CV_join1)\n",
    "    \n",
    "    #suppression des chiffres excepté ceux dans les mots j2ee...\n",
    "    CV_nodecimal = [mot for mot in CV_list if mot.isdecimal()==False ]\n",
    "    \n",
    "    #suppression des mots de longueur 1 sauf R et C\n",
    "    CV_len = [mot for mot in CV_nodecimal if mot==\"r\" or mot==\"c\" or len(mot)>=2 ]\n",
    "   \n",
    "    return ([id_CV], [CV_len])\n",
    "\n",
    "def etape_reduce(a, b):\n",
    "    a[0].append(b[0][0])\n",
    "    a[1].append(b[1][0])\n",
    "    return a"
   ]
  },
  {
   "cell_type": "code",
   "execution_count": 11,
   "metadata": {},
   "outputs": [
    {
     "name": "stdout",
     "output_type": "stream",
     "text": [
      "CPU times: user 1.66 s, sys: 544 ms, total: 2.2 s\n",
      "Wall time: 4min 53s\n"
     ]
    }
   ],
   "source": [
    "%%time\n",
    "from multiprocessing import Pool\n",
    "from functools import reduce\n",
    "\n",
    "#multiprocess\n",
    "with Pool() as pool:\n",
    "    m = pool.map(etape_map, liste_CV_id)\n",
    "    \n",
    "r = reduce(etape_reduce, m)"
   ]
  },
  {
   "cell_type": "code",
   "execution_count": 12,
   "metadata": {},
   "outputs": [
    {
     "name": "stdout",
     "output_type": "stream",
     "text": [
      "(8205, 2)\n"
     ]
    },
    {
     "data": {
      "text/html": [
       "<div>\n",
       "<style scoped>\n",
       "    .dataframe tbody tr th:only-of-type {\n",
       "        vertical-align: middle;\n",
       "    }\n",
       "\n",
       "    .dataframe tbody tr th {\n",
       "        vertical-align: top;\n",
       "    }\n",
       "\n",
       "    .dataframe thead th {\n",
       "        text-align: right;\n",
       "    }\n",
       "</style>\n",
       "<table border=\"1\" class=\"dataframe\">\n",
       "  <thead>\n",
       "    <tr style=\"text-align: right;\">\n",
       "      <th></th>\n",
       "      <th>id_CV</th>\n",
       "      <th>cv_list</th>\n",
       "    </tr>\n",
       "    <tr>\n",
       "      <th>id_CV</th>\n",
       "      <th></th>\n",
       "      <th></th>\n",
       "    </tr>\n",
       "  </thead>\n",
       "  <tbody>\n",
       "    <tr>\n",
       "      <th>5711</th>\n",
       "      <td>5711</td>\n",
       "      <td>[jaouadi, junior, data, scientist, jaouadi, ju...</td>\n",
       "    </tr>\n",
       "  </tbody>\n",
       "</table>\n",
       "</div>"
      ],
      "text/plain": [
       "      id_CV                                            cv_list\n",
       "id_CV                                                         \n",
       "5711   5711  [jaouadi, junior, data, scientist, jaouadi, ju..."
      ]
     },
     "execution_count": 12,
     "metadata": {},
     "output_type": "execute_result"
    }
   ],
   "source": [
    "rdf = pd.DataFrame(r).transpose()\n",
    "rdf.columns=['id_CV', \"cv_list\"]\n",
    "rdf.index = rdf['id_CV']\n",
    "print(rdf.shape)\n",
    "rdf.head(1)"
   ]
  },
  {
   "cell_type": "code",
   "execution_count": 13,
   "metadata": {},
   "outputs": [
    {
     "name": "stdout",
     "output_type": "stream",
     "text": [
      "(8205, 4)\n"
     ]
    },
    {
     "data": {
      "text/html": [
       "<div>\n",
       "<style scoped>\n",
       "    .dataframe tbody tr th:only-of-type {\n",
       "        vertical-align: middle;\n",
       "    }\n",
       "\n",
       "    .dataframe tbody tr th {\n",
       "        vertical-align: top;\n",
       "    }\n",
       "\n",
       "    .dataframe thead th {\n",
       "        text-align: right;\n",
       "    }\n",
       "</style>\n",
       "<table border=\"1\" class=\"dataframe\">\n",
       "  <thead>\n",
       "    <tr style=\"text-align: right;\">\n",
       "      <th></th>\n",
       "      <th>id_CV</th>\n",
       "      <th>cv_list</th>\n",
       "      <th>len_cv_initial</th>\n",
       "      <th>traduction</th>\n",
       "    </tr>\n",
       "    <tr>\n",
       "      <th>id_CV</th>\n",
       "      <th></th>\n",
       "      <th></th>\n",
       "      <th></th>\n",
       "      <th></th>\n",
       "    </tr>\n",
       "  </thead>\n",
       "  <tbody>\n",
       "    <tr>\n",
       "      <th>5711</th>\n",
       "      <td>5711</td>\n",
       "      <td>[jaouadi, junior, data, scientist, jaouadi, ju...</td>\n",
       "      <td>4477</td>\n",
       "      <td>Jaouadi - Junior Data Scientist\\n\\n\\n  Jaouadi...</td>\n",
       "    </tr>\n",
       "  </tbody>\n",
       "</table>\n",
       "</div>"
      ],
      "text/plain": [
       "      id_CV                                            cv_list  \\\n",
       "id_CV                                                            \n",
       "5711   5711  [jaouadi, junior, data, scientist, jaouadi, ju...   \n",
       "\n",
       "       len_cv_initial                                         traduction  \n",
       "id_CV                                                                     \n",
       "5711             4477  Jaouadi - Junior Data Scientist\\n\\n\\n  Jaouadi...  "
      ]
     },
     "execution_count": 13,
     "metadata": {},
     "output_type": "execute_result"
    }
   ],
   "source": [
    "CVs_df_liste = rdf.join(CVs_df, rsuffix='r')\n",
    "CVs_df_liste = CVs_df_liste.drop('id_CVr', axis=1)\n",
    "print(CVs_df_liste.shape)\n",
    "CVs_df_liste.head(1)"
   ]
  },
  {
   "cell_type": "markdown",
   "metadata": {},
   "source": [
    "## Matrice Count"
   ]
  },
  {
   "cell_type": "code",
   "execution_count": 14,
   "metadata": {},
   "outputs": [
    {
     "name": "stdout",
     "output_type": "stream",
     "text": [
      "Le vocabulaire de base contient 91920 tokens.\n"
     ]
    }
   ],
   "source": [
    "from sklearn.feature_extraction import DictVectorizer\n",
    "count= [dict(Counter(cv)) for cv in r[1]]\n",
    "dictvectorizer = DictVectorizer()\n",
    "dictvectorizerFIT = dictvectorizer.fit_transform(count)\n",
    "matrice_count = dictvectorizerFIT.toarray()\n",
    "DataFrame_Count = pd.DataFrame(matrice_count,  columns=dictvectorizer.get_feature_names(), index=r[0])\n",
    "print(\"Le vocabulaire de base contient\", DataFrame_Count.shape[1], \"tokens.\")"
   ]
  },
  {
   "cell_type": "code",
   "execution_count": 15,
   "metadata": {},
   "outputs": [],
   "source": [
    "with gzip.open('Matrices/CVs3_tokenization.pkl.gz', 'wb') as f:\n",
    "    pkl.dump(CVs_df_liste, f)"
   ]
  },
  {
   "cell_type": "code",
   "execution_count": null,
   "metadata": {},
   "outputs": [],
   "source": []
  }
 ],
 "metadata": {
  "kernelspec": {
   "display_name": "Python 3",
   "language": "python",
   "name": "python3"
  },
  "language_info": {
   "codemirror_mode": {
    "name": "ipython",
    "version": 3
   },
   "file_extension": ".py",
   "mimetype": "text/x-python",
   "name": "python",
   "nbconvert_exporter": "python",
   "pygments_lexer": "ipython3",
   "version": "3.7.6"
  }
 },
 "nbformat": 4,
 "nbformat_minor": 4
}
