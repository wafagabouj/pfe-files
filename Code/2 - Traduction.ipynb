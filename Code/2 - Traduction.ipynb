{
 "cells": [
  {
   "cell_type": "code",
   "execution_count": 1,
   "metadata": {},
   "outputs": [
    {
     "name": "stdout",
     "output_type": "stream",
     "text": [
      "/home/id1019/Documents/PFE/GITHUB\n"
     ]
    }
   ],
   "source": [
    "import os\n",
    "os.chdir(os.getcwd().replace('/Code', ''))\n",
    "print(os.getcwd())"
   ]
  },
  {
   "cell_type": "code",
   "execution_count": 2,
   "metadata": {},
   "outputs": [],
   "source": [
    "import gzip\n",
    "import pickle as pkl\n",
    "import pandas as pd\n",
    "import langdetect\n",
    "from textblob import TextBlob\n",
    "from multiprocessing import Pool\n",
    "from functools import reduce\n",
    "from collections import Counter\n",
    "from googletrans import Translator\n"
   ]
  },
  {
   "cell_type": "markdown",
   "metadata": {},
   "source": [
    "## Récupération de la matrice précédente"
   ]
  },
  {
   "cell_type": "code",
   "execution_count": 4,
   "metadata": {},
   "outputs": [
    {
     "name": "stdout",
     "output_type": "stream",
     "text": [
      "(8212, 3)\n"
     ]
    },
    {
     "data": {
      "text/html": [
       "<div>\n",
       "<style scoped>\n",
       "    .dataframe tbody tr th:only-of-type {\n",
       "        vertical-align: middle;\n",
       "    }\n",
       "\n",
       "    .dataframe tbody tr th {\n",
       "        vertical-align: top;\n",
       "    }\n",
       "\n",
       "    .dataframe thead th {\n",
       "        text-align: right;\n",
       "    }\n",
       "</style>\n",
       "<table border=\"1\" class=\"dataframe\">\n",
       "  <thead>\n",
       "    <tr style=\"text-align: right;\">\n",
       "      <th></th>\n",
       "      <th>id_CV</th>\n",
       "      <th>text_no_x</th>\n",
       "      <th>len_cv_initial</th>\n",
       "    </tr>\n",
       "    <tr>\n",
       "      <th>id_CV</th>\n",
       "      <th></th>\n",
       "      <th></th>\n",
       "      <th></th>\n",
       "    </tr>\n",
       "  </thead>\n",
       "  <tbody>\n",
       "    <tr>\n",
       "      <th>5711</th>\n",
       "      <td>5711</td>\n",
       "      <td>Jaouadi – Junior Data Scientist\\n\\n\\n  Jaoua...</td>\n",
       "      <td>4477</td>\n",
       "    </tr>\n",
       "  </tbody>\n",
       "</table>\n",
       "</div>"
      ],
      "text/plain": [
       "      id_CV                                          text_no_x  len_cv_initial\n",
       "id_CV                                                                         \n",
       "5711   5711    Jaouadi – Junior Data Scientist\\n\\n\\n  Jaoua...            4477"
      ]
     },
     "execution_count": 4,
     "metadata": {},
     "output_type": "execute_result"
    }
   ],
   "source": [
    "with gzip.open('Matrices/CVs1_suppressionCV.pkl.gz', 'rb') as f:\n",
    "    CVs = pkl.load(f)\n",
    "print(CVs.shape)\n",
    "CVs.head(1)"
   ]
  },
  {
   "cell_type": "markdown",
   "metadata": {},
   "source": [
    "## Traduction en anglais"
   ]
  },
  {
   "cell_type": "code",
   "execution_count": 5,
   "metadata": {},
   "outputs": [],
   "source": [
    "CVs['traduction'] = [ None for cv in CVs.index ]"
   ]
  },
  {
   "cell_type": "code",
   "execution_count": 6,
   "metadata": {},
   "outputs": [
    {
     "name": "stdout",
     "output_type": "stream",
     "text": [
      "Il faut traduire 8212 cv.\n"
     ]
    }
   ],
   "source": [
    "print('Il faut traduire', len([i for i in CVs.index  if CVs.loc[i]['traduction'] == None]), 'cv.')"
   ]
  },
  {
   "cell_type": "code",
   "execution_count": 101,
   "metadata": {},
   "outputs": [
    {
     "name": "stdout",
     "output_type": "stream",
     "text": [
      "(8212, 4)\n",
      "Il reste 7 cv à traduire.\n",
      "7\n",
      "la traduction du cv n° 1975 n'a pas fonctionné\n",
      "la traduction du cv n° 7521 n'a pas fonctionné\n",
      "la traduction du cv n° 2046 n'a pas fonctionné\n",
      "la traduction du cv n° 156 n'a pas fonctionné\n",
      "la traduction du cv n° 3997 n'a pas fonctionné\n",
      "la traduction du cv n° 7111 n'a pas fonctionné\n",
      "la traduction du cv n° 3186 n'a pas fonctionné\n",
      "(8212, 4)\n",
      "Il reste 7 cv à traduire.\n",
      "CPU times: user 32.2 s, sys: 204 ms, total: 32.4 s\n",
      "Wall time: 36.9 s\n"
     ]
    }
   ],
   "source": [
    "%%time\n",
    "#45 minutes si la traduction n'a pas déjà été lancée\n",
    "try :\n",
    "    with gzip.open('Matrices/CVs2_traductionALL_srcfr.pkl.gz', 'rb') as f:\n",
    "        CVs = pkl.load(f)\n",
    "    print(CVs.shape)\n",
    "    print('Il reste', len([i for i in CVs.index  if CVs.loc[i]['traduction'] == None]), 'cv à traduire.')\n",
    "except:\n",
    "    print(\"premiere traduction\")\n",
    "\n",
    "    \n",
    "liste_CV_id_a_traduire= [[CVs.loc[cv]['text_no_x'], cv] for cv in CVs.index if CVs.loc[cv]['traduction'] == None]\n",
    "print(len(liste_CV_id_a_traduire))    \n",
    "    \n",
    "def etape_map(CV_and_id):\n",
    "    CV = CV_and_id[0]\n",
    "    id_CV = CV_and_id[1]\n",
    "    CV_traduit = None\n",
    "    try :\n",
    "        blob = TextBlob(CV )\n",
    "        CV_traduit = str(blob.translate(from_lang='fr', to='en'))\n",
    "    except:\n",
    "        try :\n",
    "            translator = Translator()\n",
    "            CV_traduit = translator.translate( CV,src='fr', dest='en').text\n",
    "        except :\n",
    "            try:\n",
    "                #Découpage du cv en 4 parties\n",
    "                lignes = CV.split('\\n')\n",
    "                nb_lignes = len(lignes)\n",
    "                size = int(np.floor(nb_lignes/4))\n",
    "                c1 = \"\\n\".join(CV.split('\\n')[0:size])\n",
    "                c1_traduit = translator.translate(c1 ,src='fr', dest='en').text\n",
    "                c2 = \"\\n\".join(CV.split('\\n')[size:2*size])\n",
    "                c2_traduit = translator.translate(c2 ,src='fr', dest='en').text\n",
    "                c3 = \"\\n\".join(CV.split('\\n')[2*size:3*size])\n",
    "                c3_traduit = translator.translate(c3 ,src='fr', dest='en').text\n",
    "                c4 = \"\\n\".join(CV.split('\\n')[3*size:])\n",
    "                c4_traduit = translator.translate(c4 ,src='fr', dest='en').text\n",
    "                cr = \"\\n\".join([c1,c2,c3,c4])\n",
    "                CV_traduit = \"\\n\".join([c1_traduit, c2_traduit, c3_traduit, c4_traduit])\n",
    "            except:\n",
    "                print(\"la traduction du cv n°\",id_CV,\"n'a pas fonctionnée\")\n",
    "    return ([id_CV], [CV_traduit])\n",
    "\n",
    "def etape_reduce(a, b):\n",
    "    a[0].append(b[0][0])\n",
    "    a[1].append(b[1][0])\n",
    "    return a\n",
    "    \n",
    "with Pool() as pool:\n",
    "    m = pool.map(etape_map, liste_CV_id_a_traduire) \n",
    "reduce_traduction = reduce(etape_reduce, m)\n",
    "\n",
    "for i in range(len(reduce_traduction[0])):\n",
    "    id_cv = reduce_traduction[0][i]\n",
    "    CVs.loc[id_cv,'traduction'] = reduce_traduction[1][i]\n",
    "\n",
    "        \n",
    "for CV in CVs.index:\n",
    "    if CVs.loc[CV,'traduction']!=None:\n",
    "        CVs.loc[CV,'traduction'] = CVs.loc[CV]['traduction'].replace(\"C ++\", 'C++')\n",
    "        CVs.loc[CV,'traduction'] = CVs.loc[CV]['traduction'].replace(\"c ++\", 'C++')\n",
    "        CVs.loc[CV,'traduction'] = CVs.loc[CV]['traduction'].replace(\"C #\", 'C#')\n",
    "        CVs.loc[CV,'traduction'] = CVs.loc[CV]['traduction'].replace(\"c #\", 'C++')\n",
    "        \n",
    "        \n",
    "with gzip.open('Matrices/CVs2_traductionALL_srcfr.pkl.gz', 'wb') as f:\n",
    "    pkl.dump(CVs, f)\n",
    "\n",
    "print(CVs.shape)\n",
    "print('Il reste', len([i for i in CVs.index  if CVs.loc[i]['traduction'] == None]), 'cv à traduire.')"
   ]
  },
  {
   "cell_type": "code",
   "execution_count": null,
   "metadata": {},
   "outputs": [],
   "source": []
  }
 ],
 "metadata": {
  "kernelspec": {
   "display_name": "Python 3",
   "language": "python",
   "name": "python3"
  },
  "language_info": {
   "codemirror_mode": {
    "name": "ipython",
    "version": 3
   },
   "file_extension": ".py",
   "mimetype": "text/x-python",
   "name": "python",
   "nbconvert_exporter": "python",
   "pygments_lexer": "ipython3",
   "version": "3.7.6"
  }
 },
 "nbformat": 4,
 "nbformat_minor": 4
}
